{
    "cells": [
        {
            "cell_type": "markdown",
            "metadata": {},
            "source": "<h1>Batch Normalization with the MNIST Dataset</h1>\n"
        },
        {
            "cell_type": "markdown",
            "metadata": {},
            "source": "<h3>Objective for this Notebook<h3>    \n<h5> 1. Define Several Neural Networks, Criterion function, Optimizer.</h5>\n<h5> 2. Train Neural Network using Batch Normalization and no Batch Normalization </h5>   \n"
        },
        {
            "cell_type": "markdown",
            "metadata": {},
            "source": "<h2>Table of Contents</h2>\nIn this lab, you will build a Neural Network using Batch Normalization and compare it to a Neural Network that does not use Batch Normalization. You will use the MNIST dataset to test your network. \n\n<ul>\n<li><a href=\"#Train_Func\">Neural Network Module and Training Function</a></li>\n<li><a href=\"#Makeup_Data\">Load Data </a></li>\n<li><a href=\"#NN\">Define Several Neural Networks, Criterion function, Optimizer</a></li>\n<li><a href=\"#Train\">Train Neural Network using Batch Normalization and no Batch Normalization</a></li>\n<li><a href=\"#Result\">Analyze Results</a></li>\n</ul>\n\n</div>\n\n<hr>\n"
        },
        {
            "cell_type": "markdown",
            "metadata": {},
            "source": "<h2>Preparation</h2>\n"
        },
        {
            "cell_type": "markdown",
            "metadata": {},
            "source": "We'll need the following libraries:  \n"
        },
        {
            "cell_type": "code",
            "execution_count": 1,
            "metadata": {},
            "outputs": [
                {
                    "data": {
                        "text/plain": "<torch._C.Generator at 0x7fea0d51ff30>"
                    },
                    "execution_count": 1,
                    "metadata": {},
                    "output_type": "execute_result"
                }
            ],
            "source": "# These are the libraries will be used for this lab.\n\n# Using the following line code to install the torchvision library\n# !conda install -y torchvision\n\nimport torch \nimport torch.nn as nn\nimport torchvision.transforms as transforms\nimport torchvision.datasets as dsets\nimport torch.nn.functional as F\nimport matplotlib.pylab as plt\nimport numpy as np\ntorch.manual_seed(0)"
        },
        {
            "cell_type": "markdown",
            "metadata": {},
            "source": "<!--Empty Space for separating topics-->\n"
        },
        {
            "cell_type": "markdown",
            "metadata": {},
            "source": "<h2 id=\"Train_Func\">Neural Network Module and Training Function</h2> \n"
        },
        {
            "cell_type": "markdown",
            "metadata": {},
            "source": "Define the neural network module or class \n"
        },
        {
            "cell_type": "markdown",
            "metadata": {},
            "source": " Neural Network Module with two hidden layers using Batch Normalization\n"
        },
        {
            "cell_type": "code",
            "execution_count": 2,
            "metadata": {},
            "outputs": [],
            "source": "# Define the Neural Network Model using Batch Normalization\n\nclass NetBatchNorm(nn.Module):\n    \n    # Constructor\n    def __init__(self, in_size, n_hidden1, n_hidden2, out_size):\n        super(NetBatchNorm, self).__init__()\n        self.linear1 = nn.Linear(in_size, n_hidden1)\n        self.linear2 = nn.Linear(n_hidden1, n_hidden2)\n        self.linear3 = nn.Linear(n_hidden2, out_size)\n        self.bn1 = nn.BatchNorm1d(n_hidden1)\n        self.bn2 = nn.BatchNorm1d(n_hidden2)\n        \n    # Prediction\n    def forward(self, x):\n        x = self.bn1(torch.sigmoid(self.linear1(x)))\n        x = self.bn2(torch.sigmoid(self.linear2(x)))\n        x = self.linear3(x)\n        return x\n    \n    # Activations, to analyze results \n    def activation(self, x):\n        out = []\n        z1 = self.bn1(self.linear1(x))\n        out.append(z1.detach().numpy().reshape(-1))\n        a1 = torch.sigmoid(z1)\n        out.append(a1.detach().numpy().reshape(-1).reshape(-1))\n        z2 = self.bn2(self.linear2(a1))\n        out.append(z2.detach().numpy().reshape(-1))\n        a2 = torch.sigmoid(z2)\n        out.append(a2.detach().numpy().reshape(-1))\n        return out"
        },
        {
            "cell_type": "markdown",
            "metadata": {},
            "source": "Neural Network Module with two hidden layers with out Batch Normalization\n"
        },
        {
            "cell_type": "code",
            "execution_count": 3,
            "metadata": {},
            "outputs": [],
            "source": "# Class Net for Neural Network Model\n\nclass Net(nn.Module):\n    \n    # Constructor\n    def __init__(self, in_size, n_hidden1, n_hidden2, out_size):\n\n        super(Net, self).__init__()\n        self.linear1 = nn.Linear(in_size, n_hidden1)\n        self.linear2 = nn.Linear(n_hidden1, n_hidden2)\n        self.linear3 = nn.Linear(n_hidden2, out_size)\n    \n    # Prediction\n    def forward(self, x):\n        x = torch.sigmoid(self.linear1(x))\n        x = torch.sigmoid(self.linear2(x))\n        x = self.linear3(x)\n        return x\n    \n    # Activations, to analyze results \n    def activation(self, x):\n        out = []\n        z1 = self.linear1(x)\n        out.append(z1.detach().numpy().reshape(-1))\n        a1 = torch.sigmoid(z1)\n        out.append(a1.detach().numpy().reshape(-1).reshape(-1))\n        z2 = self.linear2(a1)\n        out.append(z2.detach().numpy().reshape(-1))\n        a2 = torch.sigmoid(z2)\n        out.append(a2.detach().numpy().reshape(-1))\n        return out \n"
        },
        {
            "cell_type": "markdown",
            "metadata": {},
            "source": "Define a function to train the model. In this case the function returns a Python dictionary to store the training loss and accuracy on the validation data \n"
        },
        {
            "cell_type": "code",
            "execution_count": 4,
            "metadata": {},
            "outputs": [],
            "source": "# Define the function to train model\n\ndef train(model, criterion, train_loader, validation_loader, optimizer, epochs=100):\n    i = 0\n    useful_stuff = {'training_loss':[], 'validation_accuracy':[]}  \n\n    for epoch in range(epochs):\n        for i, (x, y) in enumerate(train_loader):\n            model.train()\n            optimizer.zero_grad()\n            z = model(x.view(-1, 28 * 28))\n            loss = criterion(z, y)\n            loss.backward()\n            optimizer.step()\n            useful_stuff['training_loss'].append(loss.data.item())\n            \n        correct = 0\n        for x, y in validation_loader:\n            model.eval()\n            yhat = model(x.view(-1, 28 * 28))\n            _, label = torch.max(yhat, 1)\n            correct += (label == y).sum().item()\n            \n        accuracy = 100 * (correct / len(validation_dataset))\n        useful_stuff['validation_accuracy'].append(accuracy)\n    \n    return useful_stuff"
        },
        {
            "cell_type": "markdown",
            "metadata": {},
            "source": "<!--Empty Space for separating topics-->\n"
        },
        {
            "cell_type": "markdown",
            "metadata": {},
            "source": "<h2 id=\"Makeup_Data\">Make Some Data</h2> \n"
        },
        {
            "cell_type": "markdown",
            "metadata": {},
            "source": "Load the training dataset by setting the parameters <code>train </code> to <code>True</code> and convert it to a tensor  by placing a transform object int the argument <code>transform</code>\n"
        },
        {
            "cell_type": "code",
            "execution_count": 5,
            "metadata": {},
            "outputs": [],
            "source": "# load the train dataset\n\ntrain_dataset = dsets.MNIST(root='./data', train=True, download=True, transform=transforms.ToTensor())"
        },
        {
            "cell_type": "markdown",
            "metadata": {},
            "source": "Load the validating dataset by setting the parameters train  <code>False</code> and convert it to a tensor by placing a transform object into the argument <code>transform</code>\n"
        },
        {
            "cell_type": "code",
            "execution_count": 6,
            "metadata": {},
            "outputs": [],
            "source": "# load the train dataset\n\nvalidation_dataset = dsets.MNIST(root='./data', train=False, download=True, transform=transforms.ToTensor())"
        },
        {
            "cell_type": "markdown",
            "metadata": {},
            "source": "create the training-data loader and the validation-data loader object \n"
        },
        {
            "cell_type": "code",
            "execution_count": 7,
            "metadata": {},
            "outputs": [],
            "source": "# Create Data Loader for both train and validating\n\ntrain_loader = torch.utils.data.DataLoader(dataset=train_dataset, batch_size=2000, shuffle=True)\nvalidation_loader = torch.utils.data.DataLoader(dataset=validation_dataset, batch_size=5000, shuffle=False)"
        },
        {
            "cell_type": "markdown",
            "metadata": {},
            "source": "<a id=\"ref3\"></a>\n\n<h2 align=center>Define Neural Network, Criterion function, Optimizer and Train the  Model  </h2> \n"
        },
        {
            "cell_type": "markdown",
            "metadata": {},
            "source": "Create the criterion function  \n"
        },
        {
            "cell_type": "code",
            "execution_count": 8,
            "metadata": {},
            "outputs": [],
            "source": "# Create the criterion function\n\ncriterion = nn.CrossEntropyLoss()"
        },
        {
            "cell_type": "markdown",
            "metadata": {},
            "source": "Variables for Neural Network Shape <code> hidden_dim</code> used for number of neurons in both hidden layers.\n"
        },
        {
            "cell_type": "code",
            "execution_count": 9,
            "metadata": {},
            "outputs": [],
            "source": "# Set the parameters\n\ninput_dim = 28 * 28\nhidden_dim = 100\noutput_dim = 10"
        },
        {
            "cell_type": "markdown",
            "metadata": {},
            "source": "<!--Empty Space for separating topics-->\n"
        },
        {
            "cell_type": "markdown",
            "metadata": {},
            "source": "<h2 id=\"Train\">Train Neural Network using Batch Normalization and no Batch Normalization </h2> \n"
        },
        {
            "cell_type": "markdown",
            "metadata": {},
            "source": "Train Neural Network using  Batch Normalization :\n"
        },
        {
            "cell_type": "code",
            "execution_count": 10,
            "metadata": {},
            "outputs": [],
            "source": "# Create model, optimizer and train the model\n\nmodel_norm  = NetBatchNorm(input_dim, hidden_dim, hidden_dim, output_dim)\noptimizer = torch.optim.Adam(model_norm.parameters(), lr = 0.1)\ntraining_results_Norm=train(model_norm , criterion, train_loader, validation_loader, optimizer, epochs=5)"
        },
        {
            "cell_type": "markdown",
            "metadata": {},
            "source": "Train Neural Network with no Batch Normalization:\n"
        },
        {
            "cell_type": "code",
            "execution_count": 11,
            "metadata": {},
            "outputs": [],
            "source": "# Create model without Batch Normalization, optimizer and train the model\n\nmodel = Net(input_dim, hidden_dim, hidden_dim, output_dim)\noptimizer = torch.optim.Adam(model.parameters(), lr = 0.1)\ntraining_results = train(model, criterion, train_loader, validation_loader, optimizer, epochs=5)"
        },
        {
            "cell_type": "markdown",
            "metadata": {},
            "source": "<h2 id=\"Result\">Analyze Results</h2> \n"
        },
        {
            "cell_type": "markdown",
            "metadata": {},
            "source": "Compare the histograms of the activation for the first layer of the first sample, for both models.\n"
        },
        {
            "cell_type": "code",
            "execution_count": 12,
            "metadata": {},
            "outputs": [
                {
                    "data": {
                        "image/png": "[encoded data removed]",
                        "text/plain": "<Figure size 432x288 with 1 Axes>"
                    },
                    "metadata": {
                        "needs_background": "light"
                    },
                    "output_type": "display_data"
                }
            ],
            "source": "model.eval()\nmodel_norm.eval()\nout=model.activation(validation_dataset[0][0].reshape(-1,28*28))\nplt.hist(out[2],label='model with no batch normalization' )\nout_norm=model_norm.activation(validation_dataset[0][0].reshape(-1,28*28))\nplt.hist(out_norm[2],label='model with normalization')\nplt.xlabel(\"activation \")\nplt.legend()\nplt.show()"
        },
        {
            "cell_type": "markdown",
            "metadata": {},
            "source": "<!--Empty Space for separating topics-->\n"
        },
        {
            "cell_type": "markdown",
            "metadata": {},
            "source": "We see the activations with Batch Normalization are zero centred and have a smaller variance.\n"
        },
        {
            "cell_type": "markdown",
            "metadata": {},
            "source": "Compare the training loss for each iteration\n"
        },
        {
            "cell_type": "code",
            "execution_count": 13,
            "metadata": {},
            "outputs": [
                {
                    "data": {
                        "image/png": "[encoded data removed]",
                        "text/plain": "<Figure size 432x288 with 1 Axes>"
                    },
                    "metadata": {
                        "needs_background": "light"
                    },
                    "output_type": "display_data"
                }
            ],
            "source": "# Plot the diagram to show the loss\n\nplt.plot(training_results['training_loss'], label='No Batch Normalization')\nplt.plot(training_results_Norm['training_loss'], label='Batch Normalization')\nplt.ylabel('Cost')\nplt.xlabel('iterations ')   \nplt.legend()\nplt.show()"
        },
        {
            "cell_type": "markdown",
            "metadata": {},
            "source": "Compare the validating accuracy for each iteration\n"
        },
        {
            "cell_type": "code",
            "execution_count": 14,
            "metadata": {},
            "outputs": [
                {
                    "data": {
                        "image/png": "[encoded data removed]",
                        "text/plain": "<Figure size 432x288 with 1 Axes>"
                    },
                    "metadata": {
                        "needs_background": "light"
                    },
                    "output_type": "display_data"
                }
            ],
            "source": "# Plot the diagram to show the accuracy\n\nplt.plot(training_results['validation_accuracy'],label='No Batch Normalization')\nplt.plot(training_results_Norm['validation_accuracy'],label='Batch Normalization')\nplt.ylabel('validation accuracy')\nplt.xlabel('epochs ')   \nplt.legend()\nplt.show()"
        }
    ],
    "metadata": {
        "kernelspec": {
            "display_name": "Python 3.7",
            "language": "python",
            "name": "python3"
        },
        "language_info": {
            "codemirror_mode": {
                "name": "ipython",
                "version": 3
            },
            "file_extension": ".py",
            "mimetype": "text/x-python",
            "name": "python",
            "nbconvert_exporter": "python",
            "pygments_lexer": "ipython3",
            "version": "3.7.9"
        }
    },
    "nbformat": 4,
    "nbformat_minor": 2
}