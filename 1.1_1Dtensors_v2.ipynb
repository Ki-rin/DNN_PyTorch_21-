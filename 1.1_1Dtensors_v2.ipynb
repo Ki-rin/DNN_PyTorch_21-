{
    "cells": [
        {
            "cell_type": "markdown",
            "metadata": {},
            "source": "<h1>Torch Tensors in 1D</h1>\n"
        },
        {
            "cell_type": "markdown",
            "metadata": {},
            "source": "<h2>Objective</h2><ul><li> How tensor operations work in pytorch.</li></ul> \n"
        },
        {
            "cell_type": "markdown",
            "metadata": {},
            "source": "<h2>Table of Contents</h2>\n"
        },
        {
            "cell_type": "markdown",
            "metadata": {},
            "source": "<p>In this lab, you will learn the basics of tensor operations. Tensors are an essential part of PyTorch; there are complex mathematical objects in and of themselves. Fortunately, most of the intricacies are not necessary. In this section, you will compare them to vectors and numpy arrays.</p>\n<ul>\n    <li><a href=\"#Types_Shape\">Types and Shape</a></li>\n    <li><a href=\"#Index_Slice\">Indexing and Slicing</a></li>\n    <li><a href=\"#Tensor_Func\">Tensor Functions</a></li>\n    <li><a href=\"#Tensor_Op\">Tensor Operations</a></li>\n    <li><a href=\"#Device_Op\">Device_Op Operations</a></li>\n</ul>\n\n<p>Estimated Time Needed: <b>25 min</b></p>\n<hr>\n"
        },
        {
            "cell_type": "markdown",
            "metadata": {},
            "source": "<h2>Preparation</h2>\n"
        },
        {
            "cell_type": "markdown",
            "metadata": {},
            "source": "Import the following libraries that you'll use for this lab:\n"
        },
        {
            "cell_type": "code",
            "execution_count": 1,
            "metadata": {
                "jupyter": {
                    "outputs_hidden": true
                }
            },
            "outputs": [],
            "source": "# These are the libraries will be used for this lab.\n\nimport torch \nimport numpy as np \nimport pandas as pd\n\nimport matplotlib.pyplot as plt\n%matplotlib inline  "
        },
        {
            "cell_type": "markdown",
            "metadata": {},
            "source": "Check PyTorch version:\n"
        },
        {
            "cell_type": "code",
            "execution_count": 2,
            "metadata": {
                "jupyter": {
                    "outputs_hidden": true
                }
            },
            "outputs": [
                {
                    "data": {
                        "text/plain": "'1.3.1'"
                    },
                    "execution_count": 2,
                    "metadata": {},
                    "output_type": "execute_result"
                }
            ],
            "source": "torch.__version__"
        },
        {
            "cell_type": "markdown",
            "metadata": {},
            "source": "This is the function for plotting diagrams. You will use this function to plot the vectors in Coordinate system.\n"
        },
        {
            "cell_type": "code",
            "execution_count": 3,
            "metadata": {
                "jupyter": {
                    "outputs_hidden": false
                }
            },
            "outputs": [],
            "source": "# Plot vecotrs, please keep the parameters in the same length\n# @param: Vectors = [{\"vector\": vector variable, \"name\": name of vector, \"color\": color of the vector on diagram}]\n    \ndef plotVec(vectors):\n    ax = plt.axes()\n    \n    # For loop to draw the vectors\n    for vec in vectors:\n        ax.arrow(0, 0, *vec[\"vector\"], head_width = 0.05,color = vec[\"color\"], head_length = 0.1)\n        plt.text(*(vec[\"vector\"] + 0.1), vec[\"name\"])\n    \n    plt.ylim(-2,2)\n    plt.xlim(-2,2)"
        },
        {
            "cell_type": "markdown",
            "metadata": {},
            "source": "<!--Empty Space for separating topics-->\n"
        },
        {
            "cell_type": "markdown",
            "metadata": {},
            "source": "<h2 id=\"Types_Shape\">Types and Shape</h2>\n"
        },
        {
            "cell_type": "markdown",
            "metadata": {},
            "source": "You can find the type of the following list of integers <i>[0, 1, 2, 3, 4]</i> by applying the constructor <code>torch.tensor()</code>:\n"
        },
        {
            "cell_type": "code",
            "execution_count": 4,
            "metadata": {
                "jupyter": {
                    "outputs_hidden": false
                }
            },
            "outputs": [
                {
                    "name": "stdout",
                    "output_type": "stream",
                    "text": "The dtype of tensor object after converting it to tensor:  torch.int64\nThe type of tensor object after converting it to tensor:  torch.LongTensor\n"
                }
            ],
            "source": "# Convert a integer list with length 5 to a tensor\n\nints_to_tensor = torch.tensor([0, 1, 2, 3, 4])\nprint(\"The dtype of tensor object after converting it to tensor: \", ints_to_tensor.dtype)\nprint(\"The type of tensor object after converting it to tensor: \", ints_to_tensor.type())"
        },
        {
            "cell_type": "markdown",
            "metadata": {},
            "source": "As a result, the integer list has been converted to a long tensor.\n"
        },
        {
            "cell_type": "markdown",
            "metadata": {},
            "source": "The Python type is still <code>torch.Tensor</code>:\n"
        },
        {
            "cell_type": "code",
            "execution_count": 5,
            "metadata": {},
            "outputs": [
                {
                    "data": {
                        "text/plain": "torch.Tensor"
                    },
                    "execution_count": 5,
                    "metadata": {},
                    "output_type": "execute_result"
                }
            ],
            "source": "type(ints_to_tensor)"
        },
        {
            "cell_type": "markdown",
            "metadata": {},
            "source": "<!--Empty Space for separate topics-->\n"
        },
        {
            "cell_type": "markdown",
            "metadata": {},
            "source": "You can find the type of this float list <i>[0.0, 1.0, 2.0, 3.0, 4.0]</i> by applying the method <code>torch.tensor()</code>:\n"
        },
        {
            "cell_type": "code",
            "execution_count": 6,
            "metadata": {
                "jupyter": {
                    "outputs_hidden": false
                }
            },
            "outputs": [
                {
                    "name": "stdout",
                    "output_type": "stream",
                    "text": "The dtype of tensor object after converting it to tensor:  torch.float32\nThe type of tensor object after converting it to tensor:  torch.FloatTensor\n"
                }
            ],
            "source": "# Convert a float list with length 5 to a tensor\n\nfloats_to_tensor = torch.tensor([0.0, 1.0, 2.0, 3.0, 4.0])\nprint(\"The dtype of tensor object after converting it to tensor: \", floats_to_tensor.dtype)\nprint(\"The type of tensor object after converting it to tensor: \", floats_to_tensor.type())"
        },
        {
            "cell_type": "markdown",
            "metadata": {},
            "source": "The float list is converted to a float tensor.\n"
        },
        {
            "cell_type": "code",
            "execution_count": 7,
            "metadata": {},
            "outputs": [],
            "source": "list_floats=[0.0, 1.0, 2.0, 3.0, 4.0]\n\nfloats_int_tensor=torch.tensor(list_floats,dtype=torch.int64)"
        },
        {
            "cell_type": "code",
            "execution_count": 8,
            "metadata": {},
            "outputs": [
                {
                    "name": "stdout",
                    "output_type": "stream",
                    "text": "The dtype of tensor object is:  torch.int64\nThe type of tensor object is:  torch.LongTensor\n"
                }
            ],
            "source": "print(\"The dtype of tensor object is: \", floats_int_tensor.dtype)\nprint(\"The type of tensor object is: \", floats_int_tensor.type())"
        },
        {
            "cell_type": "markdown",
            "metadata": {},
            "source": "<b>Note: The elements in the list that will be converted to tensor must have the same type.</b>\n"
        },
        {
            "cell_type": "markdown",
            "metadata": {},
            "source": "<!--Empty Space for separating topics-->\n"
        },
        {
            "cell_type": "markdown",
            "metadata": {},
            "source": "From the previous examples, you see that <code>torch.tensor()</code> converts the list to the tensor type, which is similar to the original list type. However, what if you want to convert the list to a certain tensor type? <code>torch</code> contains the methods required to do this conversion. The following code  converts an integer list to float tensor:\n"
        },
        {
            "cell_type": "code",
            "execution_count": 9,
            "metadata": {},
            "outputs": [
                {
                    "name": "stdout",
                    "output_type": "stream",
                    "text": "The type of the new_float_tensor: torch.FloatTensor\n"
                }
            ],
            "source": "# Convert a integer list with length 5 to float tensor\n\nnew_float_tensor = torch.FloatTensor([0, 1, 2, 3, 4])\nnew_float_tensor.type()\nprint(\"The type of the new_float_tensor:\", new_float_tensor.type())"
        },
        {
            "cell_type": "code",
            "execution_count": 10,
            "metadata": {},
            "outputs": [],
            "source": "new_float_tensor = torch.FloatTensor([0, 1, 2, 3, 4])"
        },
        {
            "cell_type": "markdown",
            "metadata": {},
            "source": "<!--Empty Space for separating topics-->\n"
        },
        {
            "cell_type": "markdown",
            "metadata": {},
            "source": "You can also convert an existing tensor object (<code><i>tensor_obj</i></code>) to another tensor type. Convert the integer tensor to a float tensor:\n"
        },
        {
            "cell_type": "code",
            "execution_count": 11,
            "metadata": {},
            "outputs": [
                {
                    "name": "stdout",
                    "output_type": "stream",
                    "text": "The type of the new_float_tensor: torch.FloatTensor\n"
                }
            ],
            "source": "# Another method to convert the integer list to float tensor\n\nold_int_tensor = torch.tensor([0, 1, 2, 3, 4])\nnew_float_tensor = old_int_tensor.type(torch.FloatTensor)\nprint(\"The type of the new_float_tensor:\", new_float_tensor.type())"
        },
        {
            "cell_type": "markdown",
            "metadata": {},
            "source": "<!--Empty Space for separating topics-->\n"
        },
        {
            "cell_type": "markdown",
            "metadata": {},
            "source": "The <code><i>tensor_obj</i>.size()</code> helps you to find out the size of the <code><i>tensor_obj</i></code>.\nThe <code><i>tensor_obj</i>.ndimension()</code> shows the dimension of the tensor object.\n"
        },
        {
            "cell_type": "code",
            "execution_count": 12,
            "metadata": {},
            "outputs": [
                {
                    "name": "stdout",
                    "output_type": "stream",
                    "text": "The size of the new_float_tensor:  torch.Size([5])\nThe dimension of the new_float_tensor:  1\n"
                }
            ],
            "source": "# Introduce the tensor_obj.size() & tensor_ndimension.size() methods\n\nprint(\"The size of the new_float_tensor: \", new_float_tensor.size())\nprint(\"The dimension of the new_float_tensor: \",new_float_tensor.ndimension())"
        },
        {
            "cell_type": "markdown",
            "metadata": {},
            "source": "<!--Empty Space for separating topics-->\n"
        },
        {
            "cell_type": "markdown",
            "metadata": {},
            "source": "The <code><i>tensor_obj</i>.view(<i>row, column</i>)</code> is used for reshaping a tensor object.<br>\n"
        },
        {
            "cell_type": "markdown",
            "metadata": {},
            "source": "What if you have a tensor object with <code>torch.Size([5])</code> as a <code>new_float_tensor</code> as shown in the previous example?<br>\nAfter you execute <code>new_float_tensor.view(5, 1)</code>, the size of <code>new_float_tensor</code> will be <code>torch.Size([5, 1])</code>.<br>\nThis means that the tensor object <code>new_float_tensor</code> has been reshaped from a one-dimensional  tensor object with 5 elements to a two-dimensional tensor object with 5 rows and 1 column.\n"
        },
        {
            "cell_type": "code",
            "execution_count": 13,
            "metadata": {},
            "outputs": [
                {
                    "name": "stdout",
                    "output_type": "stream",
                    "text": "Original Size:  tensor([0., 1., 2., 3., 4.])\nSize after view method tensor([[0.],\n        [1.],\n        [2.],\n        [3.],\n        [4.]])\n"
                }
            ],
            "source": "# Introduce the tensor_obj.view(row, column) method\n\ntwoD_float_tensor = new_float_tensor.view(5, 1)\nprint(\"Original Size: \", new_float_tensor)\nprint(\"Size after view method\", twoD_float_tensor)"
        },
        {
            "cell_type": "markdown",
            "metadata": {},
            "source": "Note that the original size is 5. The tensor after reshaping becomes a 5X1 tensor analog to a column vector.\n"
        },
        {
            "cell_type": "markdown",
            "metadata": {},
            "source": "<b>Note: The number of elements in a tensor must remain constant after applying view.</b>\n"
        },
        {
            "cell_type": "markdown",
            "metadata": {},
            "source": "<!--Empty Space for separating topics-->\n"
        },
        {
            "cell_type": "markdown",
            "metadata": {},
            "source": "What if you have a tensor with dynamic size but you want to reshape it? You can use <b>-1</b> to do just that.\n"
        },
        {
            "cell_type": "code",
            "execution_count": 14,
            "metadata": {},
            "outputs": [
                {
                    "name": "stdout",
                    "output_type": "stream",
                    "text": "Original Size:  tensor([0., 1., 2., 3., 4.])\nSize after view method tensor([[0.],\n        [1.],\n        [2.],\n        [3.],\n        [4.]])\n"
                }
            ],
            "source": "# Introduce the use of -1 in tensor_obj.view(row, column) method\n\ntwoD_float_tensor = new_float_tensor.view(-1, 1)\nprint(\"Original Size: \", new_float_tensor)\nprint(\"Size after view method\", twoD_float_tensor)"
        },
        {
            "cell_type": "markdown",
            "metadata": {},
            "source": "You get the same result as the previous example. The <b>-1</b> can represent any size. However, be careful because you can set only one argument as <b>-1</b>.\n"
        },
        {
            "cell_type": "markdown",
            "metadata": {},
            "source": "<!--Empty Space for separating topics-->\n"
        },
        {
            "cell_type": "markdown",
            "metadata": {},
            "source": "You can also convert a <b>numpy</b> array to a <b>tensor</b>, for example: \n"
        },
        {
            "cell_type": "code",
            "execution_count": 15,
            "metadata": {},
            "outputs": [
                {
                    "name": "stdout",
                    "output_type": "stream",
                    "text": "The dtype of new tensor:  torch.float64\nThe type of new tensor:  torch.DoubleTensor\n"
                }
            ],
            "source": "# Convert a numpy array to a tensor\n\nnumpy_array = np.array([0.0, 1.0, 2.0, 3.0, 4.0])\nnew_tensor = torch.from_numpy(numpy_array)\n\nprint(\"The dtype of new tensor: \", new_tensor.dtype)\nprint(\"The type of new tensor: \", new_tensor.type())"
        },
        {
            "cell_type": "markdown",
            "metadata": {},
            "source": "<!--Empty Space for separating topics-->\n"
        },
        {
            "cell_type": "markdown",
            "metadata": {},
            "source": "Converting a <b>tensor</b> to a <b>numpy</b> is also supported in PyTorch. The syntax is shown below:\n"
        },
        {
            "cell_type": "code",
            "execution_count": 16,
            "metadata": {},
            "outputs": [
                {
                    "name": "stdout",
                    "output_type": "stream",
                    "text": "The numpy array from tensor:  [0. 1. 2. 3. 4.]\nThe dtype of numpy array:  float64\n"
                }
            ],
            "source": "# Convert a tensor to a numpy array\n\nback_to_numpy = new_tensor.numpy()\nprint(\"The numpy array from tensor: \", back_to_numpy)\nprint(\"The dtype of numpy array: \", back_to_numpy.dtype)"
        },
        {
            "cell_type": "markdown",
            "metadata": {},
            "source": "<code>back_to_numpy</code> and <code>new_tensor</code> still point to <code>numpy_array</code>. As a result if we change <code>numpy_array</code> both <code>back_to_numpy</code> and <code>new_tensor</code> will change. For example if we set all the elements in <code>numpy_array</code> to zeros, <code>back_to_numpy</code> and <code> new_tensor</code> will follow suit.\n"
        },
        {
            "cell_type": "code",
            "execution_count": 17,
            "metadata": {},
            "outputs": [
                {
                    "name": "stdout",
                    "output_type": "stream",
                    "text": "The new tensor points to numpy_array :  tensor([0., 0., 0., 0., 0.], dtype=torch.float64)\nand back to numpy array points to the tensor:  [0. 0. 0. 0. 0.]\n"
                }
            ],
            "source": "# Set all elements in numpy array to zero \nnumpy_array[:] = 0\nprint(\"The new tensor points to numpy_array : \", new_tensor)\nprint(\"and back to numpy array points to the tensor: \", back_to_numpy)"
        },
        {
            "cell_type": "markdown",
            "metadata": {},
            "source": "<!--Empty Space for separating topics-->\n"
        },
        {
            "cell_type": "markdown",
            "metadata": {},
            "source": "<b>Pandas Series</b> can also be converted by using the numpy array that is stored in <code>pandas_series.values</code>. Note that <code>pandas_series</code> can be any pandas_series object. \n"
        },
        {
            "cell_type": "code",
            "execution_count": 18,
            "metadata": {},
            "outputs": [
                {
                    "name": "stdout",
                    "output_type": "stream",
                    "text": "The new tensor from numpy array:  tensor([ 0.1000,  2.0000,  0.3000, 10.1000], dtype=torch.float64)\nThe dtype of new tensor:  torch.float64\nThe type of new tensor:  torch.DoubleTensor\n"
                }
            ],
            "source": "# Convert a panda series to a tensor\n\npandas_series=pd.Series([0.1, 2, 0.3, 10.1])\nnew_tensor=torch.from_numpy(pandas_series.values)\nprint(\"The new tensor from numpy array: \", new_tensor)\nprint(\"The dtype of new tensor: \", new_tensor.dtype)\nprint(\"The type of new tensor: \", new_tensor.type())"
        },
        {
            "cell_type": "markdown",
            "metadata": {},
            "source": "consider the following tensor \n"
        },
        {
            "cell_type": "code",
            "execution_count": 19,
            "metadata": {},
            "outputs": [],
            "source": "this_tensor=torch.tensor([0,1, 2,3]) "
        },
        {
            "cell_type": "markdown",
            "metadata": {},
            "source": "The method <code>item()</code> returns the value of this tensor as a standard Python number. This only works for one element. \n"
        },
        {
            "cell_type": "code",
            "execution_count": 20,
            "metadata": {},
            "outputs": [
                {
                    "name": "stdout",
                    "output_type": "stream",
                    "text": "the first item is given by 0 the first tensor value is given by  tensor(0)\nthe second item is given by 1 the second tensor value is given by  tensor(1)\nthe third  item is given by 2 the third tensor value is given by  tensor(2)\n"
                }
            ],
            "source": "this_tensor=torch.tensor([0,1, 2,3]) \n\nprint(\"the first item is given by\",this_tensor[0].item(),\"the first tensor value is given by \",this_tensor[0])\nprint(\"the second item is given by\",this_tensor[1].item(),\"the second tensor value is given by \",this_tensor[1])\nprint(\"the third  item is given by\",this_tensor[2].item(),\"the third tensor value is given by \",this_tensor[2])"
        },
        {
            "cell_type": "markdown",
            "metadata": {},
            "source": "we can use the method <code> tolist()</code> to return a list \n"
        },
        {
            "cell_type": "code",
            "execution_count": 21,
            "metadata": {},
            "outputs": [
                {
                    "name": "stdout",
                    "output_type": "stream",
                    "text": "tensor: tensor([0, 1, 2, 3]) \nlist: [0, 1, 2, 3]\n"
                }
            ],
            "source": "torch_to_list=this_tensor.tolist()\n\nprint('tensor:', this_tensor,\"\\nlist:\",torch_to_list)"
        },
        {
            "cell_type": "markdown",
            "metadata": {},
            "source": "<!--Empty Space for separating topics-->\n"
        },
        {
            "cell_type": "markdown",
            "metadata": {},
            "source": "<h3>Practice</h3>\n"
        },
        {
            "cell_type": "markdown",
            "metadata": {},
            "source": "Try to convert <code>your_tensor</code> to a 1X5 tensor.\n"
        },
        {
            "cell_type": "code",
            "execution_count": 29,
            "metadata": {},
            "outputs": [
                {
                    "name": "stdout",
                    "output_type": "stream",
                    "text": "[1 2 3 4 5]\nOriginal Size:  tensor([1, 2, 3, 4, 5])\nSize after view method tensor([[1, 2, 3, 4, 5]])\n"
                }
            ],
            "source": "# Practice: convert the following tensor to a tensor object with 1 row and 5 columns\n\nyour_tensor = torch.tensor([1, 2, 3, 4, 5])\nmy_tensor=your_tensor.numpy()\nprint(my_tensor)\n\nyour_new_tensor = your_tensor.view(1, 5)\nprint(\"Original Size: \", your_tensor)\nprint(\"Size after view method\", your_new_tensor)"
        },
        {
            "cell_type": "markdown",
            "metadata": {},
            "source": "Double-click <b>here</b> for the solution.\n\n<!-- \nyour_new_tensor = your_tensor.view(1, 5)\nprint(\"Original Size: \", your_tensor)\nprint(\"Size after view method\", your_new_tensor)\n-->\n"
        },
        {
            "cell_type": "markdown",
            "metadata": {},
            "source": "<!--Empty Space for separating topics-->\n"
        },
        {
            "cell_type": "markdown",
            "metadata": {},
            "source": "<h2 id=\"Index_Slice\">Indexing and Slicing</h2>\n"
        },
        {
            "cell_type": "markdown",
            "metadata": {},
            "source": "In Python, <b>the index starts with 0</b>. Therefore, the last index will always be 1 less than the length of the tensor object.\nYou can access the value on a certain index by using the square bracket, for example:\n"
        },
        {
            "cell_type": "code",
            "execution_count": 30,
            "metadata": {},
            "outputs": [
                {
                    "name": "stdout",
                    "output_type": "stream",
                    "text": "The value on index 0: tensor(0)\nThe value on index 1: tensor(1)\nThe value on index 2: tensor(2)\nThe value on index 3: tensor(3)\nThe value on index 4: tensor(4)\n"
                }
            ],
            "source": "# A tensor for showing how the indexs work on tensors\n\nindex_tensor = torch.tensor([0, 1, 2, 3, 4])\nprint(\"The value on index 0:\",index_tensor[0])\nprint(\"The value on index 1:\",index_tensor[1])\nprint(\"The value on index 2:\",index_tensor[2])\nprint(\"The value on index 3:\",index_tensor[3])\nprint(\"The value on index 4:\",index_tensor[4])"
        },
        {
            "cell_type": "markdown",
            "metadata": {},
            "source": "<b>Note that the <code>index_tensor[5]</code> will create an error.</b>\n"
        },
        {
            "cell_type": "markdown",
            "metadata": {},
            "source": "<!--Empty Space for separating topics-->\n"
        },
        {
            "cell_type": "markdown",
            "metadata": {},
            "source": "The index is shown in the following figure: \n"
        },
        {
            "cell_type": "markdown",
            "metadata": {},
            "source": "<img src=\"https://s3-api.us-geo.objectstorage.softlayer.net/cf-courses-data/CognitiveClass/DL0110EN/notebook_images%20/chapter%201/idex_1.png\" width=\"500\" alt=\"Python Index\" />\n"
        },
        {
            "cell_type": "markdown",
            "metadata": {},
            "source": "<!--Empty Space for separating topics-->\n"
        },
        {
            "cell_type": "markdown",
            "metadata": {},
            "source": "Now, you'll see how to change the values on certain indexes.\n"
        },
        {
            "cell_type": "markdown",
            "metadata": {},
            "source": "Suppose you have a tensor as shown here: \n"
        },
        {
            "cell_type": "code",
            "execution_count": 31,
            "metadata": {
                "jupyter": {
                    "outputs_hidden": false
                }
            },
            "outputs": [],
            "source": "# A tensor for showing how to change value according to the index\n\ntensor_sample = torch.tensor([20, 1, 2, 3, 4])"
        },
        {
            "cell_type": "markdown",
            "metadata": {},
            "source": "Assign the value on index 0 as 100:\n"
        },
        {
            "cell_type": "code",
            "execution_count": 32,
            "metadata": {
                "jupyter": {
                    "outputs_hidden": false
                }
            },
            "outputs": [
                {
                    "name": "stdout",
                    "output_type": "stream",
                    "text": "Inital value on index 0: tensor(20)\nModified tensor: tensor([100,   1,   2,   3,   4])\n"
                }
            ],
            "source": "# Change the value on the index 0 to 100\n\nprint(\"Inital value on index 0:\", tensor_sample[0])\ntensor_sample[0] = 100\nprint(\"Modified tensor:\", tensor_sample)"
        },
        {
            "cell_type": "markdown",
            "metadata": {},
            "source": "As you can see, the value on index 0 changes. Change the value on index 4 to 0:\n"
        },
        {
            "cell_type": "code",
            "execution_count": 33,
            "metadata": {
                "jupyter": {
                    "outputs_hidden": false
                }
            },
            "outputs": [
                {
                    "name": "stdout",
                    "output_type": "stream",
                    "text": "Inital value on index 4: tensor(4)\nModified tensor: tensor([100,   1,   2,   3,   0])\n"
                }
            ],
            "source": "# Change the value on the index 4 to 0\n\nprint(\"Inital value on index 4:\", tensor_sample[4])\ntensor_sample[4] = 0\nprint(\"Modified tensor:\", tensor_sample)"
        },
        {
            "cell_type": "markdown",
            "metadata": {},
            "source": "The value on index 4 turns to 0.\n"
        },
        {
            "cell_type": "markdown",
            "metadata": {},
            "source": "<!--Empty Space for separating topics-->\n"
        },
        {
            "cell_type": "markdown",
            "metadata": {},
            "source": "If you are familiar with Python, you know that there is a feature called slicing on a list. Tensors support the same feature. \n"
        },
        {
            "cell_type": "markdown",
            "metadata": {},
            "source": "Get the subset of <code>tensor_sample</code>. The subset should contain the values in <code>tensor_sample</code> from index 1 to index 3.\n"
        },
        {
            "cell_type": "code",
            "execution_count": 34,
            "metadata": {
                "jupyter": {
                    "outputs_hidden": false
                }
            },
            "outputs": [
                {
                    "name": "stdout",
                    "output_type": "stream",
                    "text": "Original tensor sample:  tensor([100,   1,   2,   3,   0])\nThe subset of tensor sample: tensor([1, 2, 3])\n"
                }
            ],
            "source": "# Slice tensor_sample\n\nsubset_tensor_sample = tensor_sample[1:4]\nprint(\"Original tensor sample: \", tensor_sample)\nprint(\"The subset of tensor sample:\", subset_tensor_sample)"
        },
        {
            "cell_type": "markdown",
            "metadata": {},
            "source": "As a result, the <code>subset_tensor_sample</code> returned only the values on index 1, index 2, and index 3. Then, it stored them in a <code>subset_tensor_sample</code>.\n"
        },
        {
            "cell_type": "markdown",
            "metadata": {},
            "source": "<b>Note: The number on the left side of the colon represents the index of the first value. The number on the right side of the colon is always 1 larger than the index of the last value. For example, <code>tensor_sample[1:4]</code> means you get values from the index 1 to index 3 <i>(4-1)</i></b>.\n"
        },
        {
            "cell_type": "markdown",
            "metadata": {},
            "source": "<!--Empty Space for separating topics-->\n"
        },
        {
            "cell_type": "markdown",
            "metadata": {},
            "source": "As for assigning values to the certain index, you can also assign the value to the slices:\n"
        },
        {
            "cell_type": "markdown",
            "metadata": {},
            "source": "Change the value of <code>tensor_sample</code> from index 3 to index 4:\n"
        },
        {
            "cell_type": "code",
            "execution_count": 35,
            "metadata": {},
            "outputs": [
                {
                    "name": "stdout",
                    "output_type": "stream",
                    "text": "Inital value on index 3 and index 4: tensor([3, 0])\nModified tensor: tensor([100,   1,   2, 300, 400])\n"
                }
            ],
            "source": "# Change the values on index 3 and index 4\n\nprint(\"Inital value on index 3 and index 4:\", tensor_sample[3:5])\ntensor_sample[3:5] = torch.tensor([300.0, 400.0])\nprint(\"Modified tensor:\", tensor_sample)"
        },
        {
            "cell_type": "markdown",
            "metadata": {},
            "source": "The values on both index 3 and index 4 were changed. The values on other indexes remain the same.\n"
        },
        {
            "cell_type": "markdown",
            "metadata": {},
            "source": "<!--Empty Space for separating topics-->\n"
        },
        {
            "cell_type": "markdown",
            "metadata": {},
            "source": "You can also use a variable to contain the selected indexes and pass that variable to a tensor slice operation as a parameter, for example:  \n"
        },
        {
            "cell_type": "code",
            "execution_count": 36,
            "metadata": {
                "jupyter": {
                    "outputs_hidden": true
                }
            },
            "outputs": [
                {
                    "name": "stdout",
                    "output_type": "stream",
                    "text": "The inital tensor_sample tensor([100,   1,   2, 300, 400])\nThe subset of tensor_sample with the values on index 3 and 4:  tensor([300, 400])\n"
                }
            ],
            "source": "# Using variable to contain the selected index, and pass it to slice operation\n\nselected_indexes = [3, 4]\nsubset_tensor_sample = tensor_sample[selected_indexes]\nprint(\"The inital tensor_sample\", tensor_sample)\nprint(\"The subset of tensor_sample with the values on index 3 and 4: \", subset_tensor_sample)"
        },
        {
            "cell_type": "markdown",
            "metadata": {},
            "source": "<!--Empty Space for separating topics-->\n"
        },
        {
            "cell_type": "markdown",
            "metadata": {},
            "source": "You can also assign one value to the selected indexes by using the variable. For example, assign 100,000 to all the <code>selected_indexes</code>:\n"
        },
        {
            "cell_type": "code",
            "execution_count": 37,
            "metadata": {
                "jupyter": {
                    "outputs_hidden": false
                }
            },
            "outputs": [
                {
                    "name": "stdout",
                    "output_type": "stream",
                    "text": "The inital tensor_sample tensor([100,   1,   2, 300, 400])\nModified tensor with one value:  tensor([   100, 100000,      2, 100000,    400])\n"
                }
            ],
            "source": "#Using variable to assign the value to the selected indexes\n\nprint(\"The inital tensor_sample\", tensor_sample)\nselected_indexes = [1, 3]\ntensor_sample[selected_indexes] = 100000\nprint(\"Modified tensor with one value: \", tensor_sample)"
        },
        {
            "cell_type": "markdown",
            "metadata": {},
            "source": "The values on index 1 and index 3 were changed to 100,000. Others remain the same.\n"
        },
        {
            "cell_type": "markdown",
            "metadata": {},
            "source": "<b>Note: You can use only one value for the assignment.</b>\n"
        },
        {
            "cell_type": "markdown",
            "metadata": {},
            "source": "<!--Empty Space for separating topics-->\n"
        },
        {
            "cell_type": "markdown",
            "metadata": {},
            "source": "<h3>Practice</h3>\n"
        },
        {
            "cell_type": "markdown",
            "metadata": {},
            "source": "Try to change the values on index 3, 4, 7 of the following tensor to 0.\n"
        },
        {
            "cell_type": "code",
            "execution_count": 40,
            "metadata": {},
            "outputs": [
                {
                    "data": {
                        "text/plain": "tensor([2, 7, 3, 0, 0, 2, 3, 0, 2])"
                    },
                    "execution_count": 40,
                    "metadata": {},
                    "output_type": "execute_result"
                }
            ],
            "source": "# Practice: Change the values on index 3, 4, 7 to 0\n\npractice_tensor = torch.tensor([2, 7, 3, 4, 6, 2, 3, 1, 2])\npractice_tensor[[3,4,7]]=0\n\npractice_tensor"
        },
        {
            "cell_type": "markdown",
            "metadata": {},
            "source": "Double-click <b>here</b> for the solution.\n\n<!-- \nselected_indexes = [3, 4, 7]\npractice_tensor[selected_indexes] = 0\nprint(\"New Practice Tensor: \", practice_tensor)\n-->\n"
        },
        {
            "cell_type": "markdown",
            "metadata": {},
            "source": "<!--Empty Space for separating topics-->\n"
        },
        {
            "cell_type": "markdown",
            "metadata": {},
            "source": "<h2 id=\"Tensor_Func\">Tensor Functions</h2>\n"
        },
        {
            "cell_type": "markdown",
            "metadata": {},
            "source": "For this section, you'll work with some methods that you can apply to tensor objects.\n"
        },
        {
            "cell_type": "markdown",
            "metadata": {},
            "source": "<h3>Mean and Standard Deviation</h3>\n"
        },
        {
            "cell_type": "markdown",
            "metadata": {},
            "source": "You'll review the mean and standard deviation methods first. They are two basic statistical methods.\n"
        },
        {
            "cell_type": "markdown",
            "metadata": {},
            "source": "<!--Empty Space for separating topics-->\n"
        },
        {
            "cell_type": "markdown",
            "metadata": {},
            "source": "Create a tensor with values <i>[1.0, -1, 1, -1]</i>:\n"
        },
        {
            "cell_type": "code",
            "execution_count": 41,
            "metadata": {
                "jupyter": {
                    "outputs_hidden": true
                }
            },
            "outputs": [
                {
                    "name": "stdout",
                    "output_type": "stream",
                    "text": "Tensor example:  tensor([ 1., -1.,  1., -1.])\n"
                }
            ],
            "source": "# Sample tensor for mathmatic calculation methods on tensor\n\nmath_tensor = torch.tensor([1.0, -1.0, 1, -1])\nprint(\"Tensor example: \", math_tensor)"
        },
        {
            "cell_type": "markdown",
            "metadata": {},
            "source": "<!--Empty Space for separating topics-->\n"
        },
        {
            "cell_type": "markdown",
            "metadata": {},
            "source": "Here is the mean method:  \n"
        },
        {
            "cell_type": "code",
            "execution_count": 42,
            "metadata": {
                "jupyter": {
                    "outputs_hidden": false
                }
            },
            "outputs": [
                {
                    "name": "stdout",
                    "output_type": "stream",
                    "text": "The mean of math_tensor:  tensor(0.)\n"
                }
            ],
            "source": "#Calculate the mean for math_tensor\n\nmean = math_tensor.mean()\nprint(\"The mean of math_tensor: \", mean)"
        },
        {
            "cell_type": "markdown",
            "metadata": {},
            "source": "<!--Empty Space for separating topics-->\n"
        },
        {
            "cell_type": "markdown",
            "metadata": {},
            "source": "The standard deviation can also be calculated by using <code><i>tensor_obj</i>.std()</code>:\n"
        },
        {
            "cell_type": "code",
            "execution_count": 43,
            "metadata": {
                "jupyter": {
                    "outputs_hidden": false
                }
            },
            "outputs": [
                {
                    "name": "stdout",
                    "output_type": "stream",
                    "text": "The standard deviation of math_tensor:  tensor(1.1547)\n"
                }
            ],
            "source": "#Calculate the standard deviation for math_tensor\n\nstandard_deviation = math_tensor.std()\nprint(\"The standard deviation of math_tensor: \", standard_deviation)"
        },
        {
            "cell_type": "markdown",
            "metadata": {},
            "source": "<!--Empty Space for separating topics-->\n"
        },
        {
            "cell_type": "markdown",
            "metadata": {},
            "source": "<h3>Max and Min</h3>\n"
        },
        {
            "cell_type": "markdown",
            "metadata": {},
            "source": "Now, you'll review another two useful methods: <code><i>tensor_obj</i>.max()</code> and <code><i>tensor_obj</i>.min()</code>. These two methods are used for finding the maximum value and the minimum value in the tensor.\n"
        },
        {
            "cell_type": "markdown",
            "metadata": {},
            "source": "<!--Empty Space for separating topics-->\n"
        },
        {
            "cell_type": "markdown",
            "metadata": {},
            "source": "Create a <code>max_min_tensor</code>: \n"
        },
        {
            "cell_type": "code",
            "execution_count": 44,
            "metadata": {
                "jupyter": {
                    "outputs_hidden": false
                }
            },
            "outputs": [
                {
                    "name": "stdout",
                    "output_type": "stream",
                    "text": "Tensor example:  tensor([1, 1, 3, 5, 5])\n"
                }
            ],
            "source": "# Sample for introducing max and min methods\n\nmax_min_tensor = torch.tensor([1, 1, 3, 5, 5])\nprint(\"Tensor example: \", max_min_tensor)"
        },
        {
            "cell_type": "markdown",
            "metadata": {},
            "source": "<b>Note: There are two minimum numbers as 1 and two maximum numbers as 5 in the tensor. Can you guess how PyTorch is going to deal with the duplicates?</b>\n"
        },
        {
            "cell_type": "markdown",
            "metadata": {},
            "source": "<!--Empty Space for separating topics-->\n"
        },
        {
            "cell_type": "markdown",
            "metadata": {},
            "source": "Apply <code><i>tensor_obj</i>.max()</code> on <code>max_min_tensor</code>:\n"
        },
        {
            "cell_type": "code",
            "execution_count": 45,
            "metadata": {
                "jupyter": {
                    "outputs_hidden": false
                }
            },
            "outputs": [
                {
                    "name": "stdout",
                    "output_type": "stream",
                    "text": "Maximum number in the tensor:  tensor(5)\n"
                }
            ],
            "source": "# Method for finding the maximum value in the tensor\n\nmax_val = max_min_tensor.max()\nprint(\"Maximum number in the tensor: \", max_val)"
        },
        {
            "cell_type": "markdown",
            "metadata": {},
            "source": "The answer is <code>tensor(5)</code>. Therefore, the method <code><i>tensor_obj</i>.max()</code> is grabbing the maximum value but not the elements that contain the maximum value in the tensor.\n"
        },
        {
            "cell_type": "code",
            "execution_count": 46,
            "metadata": {},
            "outputs": [
                {
                    "data": {
                        "text/plain": "tensor(5)"
                    },
                    "execution_count": 46,
                    "metadata": {},
                    "output_type": "execute_result"
                }
            ],
            "source": " max_min_tensor.max()"
        },
        {
            "cell_type": "markdown",
            "metadata": {},
            "source": "<!--Empty Space for separating topics-->\n"
        },
        {
            "cell_type": "markdown",
            "metadata": {},
            "source": "Use <code><i>tensor_obj</i>.min()</code> on <code>max_min_tensor</code>:\n"
        },
        {
            "cell_type": "code",
            "execution_count": 47,
            "metadata": {
                "jupyter": {
                    "outputs_hidden": false
                }
            },
            "outputs": [
                {
                    "name": "stdout",
                    "output_type": "stream",
                    "text": "Minimum number in the tensor:  tensor(1)\n"
                }
            ],
            "source": "# Method for finding the minimum value in the tensor\n\nmin_val = max_min_tensor.min()\nprint(\"Minimum number in the tensor: \", min_val)"
        },
        {
            "cell_type": "markdown",
            "metadata": {},
            "source": "The answer is <code>tensor(1)</code>. Therefore, the method <code><i>tensor_obj</i>.min()</code> is grabbing the minimum value but not the elements that contain the minimum value in the tensor.\n"
        },
        {
            "cell_type": "markdown",
            "metadata": {},
            "source": "<!--Empty Space for separating topics-->\n"
        },
        {
            "cell_type": "markdown",
            "metadata": {},
            "source": "<h3>Sin</h3>\n"
        },
        {
            "cell_type": "markdown",
            "metadata": {},
            "source": "Sin is the trigonometric function of an angle. Again, you will not be introducedvto any mathematic functions. You'll focus on Python.\n"
        },
        {
            "cell_type": "markdown",
            "metadata": {},
            "source": "<!--Empty Space for separating topics-->\n"
        },
        {
            "cell_type": "markdown",
            "metadata": {},
            "source": "Create a tensor with 0, \u03c0/2 and \u03c0. Then, apply the sin function on the tensor. Notice here that the <code>sin()</code> is not a method of tensor object but is a function of torch:\n"
        },
        {
            "cell_type": "code",
            "execution_count": 48,
            "metadata": {
                "jupyter": {
                    "outputs_hidden": false
                }
            },
            "outputs": [
                {
                    "name": "stdout",
                    "output_type": "stream",
                    "text": "The sin result of pi_tensor:  tensor([ 0.0000e+00,  1.0000e+00, -8.7423e-08])\n"
                }
            ],
            "source": "# Method for calculating the sin result of each element in the tensor\n\npi_tensor = torch.tensor([0, np.pi/2, np.pi])\nsin = torch.sin(pi_tensor)\nprint(\"The sin result of pi_tensor: \", sin)"
        },
        {
            "cell_type": "markdown",
            "metadata": {},
            "source": "The resultant tensor <code>sin</code> contains the result of the <code>sin</code> function applied to each element in the <code>pi_tensor</code>.<br>\nThis is different from the previous methods. For <code><i>tensor_obj</i>.mean()</code>, <code><i>tensor_obj</i>.std()</code>, <code><i>tensor_obj</i>.max()</code>, and <code><i>tensor_obj</i>.min()</code>, the result is a tensor with only one number because these are aggregate methods.<br>\nHowever, the <code>torch.sin()</code> is not. Therefore, the resultant tensors have the same length as the input tensor.\n"
        },
        {
            "cell_type": "markdown",
            "metadata": {},
            "source": "<!--Empty Space for separating topics-->\n"
        },
        {
            "cell_type": "markdown",
            "metadata": {},
            "source": "<h3>Create Tensor by <code>torch.linspace()</code></h3>\n"
        },
        {
            "cell_type": "markdown",
            "metadata": {},
            "source": "A useful function for plotting mathematical functions is <code>torch.linspace()</code>. <code>torch.linspace()</code> returns evenly spaced numbers over a specified interval. You specify the starting point of the sequence and the ending point of the sequence. The parameter <code>steps</code> indicates the number of samples to generate. Now, you'll work with <code>steps = 5</code>.\n"
        },
        {
            "cell_type": "code",
            "execution_count": 49,
            "metadata": {
                "jupyter": {
                    "outputs_hidden": false
                }
            },
            "outputs": [
                {
                    "name": "stdout",
                    "output_type": "stream",
                    "text": "First Try on linspace tensor([-2., -1.,  0.,  1.,  2.])\n"
                }
            ],
            "source": "# First try on using linspace to create tensor\n\nlen_5_tensor = torch.linspace(-2, 2, steps = 5)\nprint (\"First Try on linspace\", len_5_tensor)"
        },
        {
            "cell_type": "markdown",
            "metadata": {},
            "source": "<!--Empty Space for separating topics-->\n"
        },
        {
            "cell_type": "markdown",
            "metadata": {},
            "source": "Assign <code>steps</code> with 9:\n"
        },
        {
            "cell_type": "code",
            "execution_count": 50,
            "metadata": {
                "jupyter": {
                    "outputs_hidden": false
                }
            },
            "outputs": [
                {
                    "name": "stdout",
                    "output_type": "stream",
                    "text": "Second Try on linspace tensor([-2.0000, -1.5000, -1.0000, -0.5000,  0.0000,  0.5000,  1.0000,  1.5000,\n         2.0000])\n"
                }
            ],
            "source": "# Second try on using linspace to create tensor\n\nlen_9_tensor = torch.linspace(-2, 2, steps = 9)\nprint (\"Second Try on linspace\", len_9_tensor)"
        },
        {
            "cell_type": "markdown",
            "metadata": {},
            "source": "<!--Empty Space for separating topics-->\n"
        },
        {
            "cell_type": "markdown",
            "metadata": {},
            "source": "Use both <code>torch.linspace()</code> and <code>torch.sin()</code> to construct a tensor that contains the 100 sin result in range from 0 (0 degree) to 2\u03c0 (360 degree): \n"
        },
        {
            "cell_type": "code",
            "execution_count": 51,
            "metadata": {
                "jupyter": {
                    "outputs_hidden": false
                }
            },
            "outputs": [],
            "source": "# Construct the tensor within 0 to 360 degree\n\npi_tensor = torch.linspace(0, 2*np.pi, 100)\nsin_result = torch.sin(pi_tensor)"
        },
        {
            "cell_type": "markdown",
            "metadata": {},
            "source": "Plot the result to get a clearer picture. You must cast the tensor to a numpy array before plotting it.\n"
        },
        {
            "cell_type": "code",
            "execution_count": 52,
            "metadata": {
                "jupyter": {
                    "outputs_hidden": false
                }
            },
            "outputs": [
                {
                    "data": {
                        "text/plain": "[<matplotlib.lines.Line2D at 0x7f4a2e72c5d0>]"
                    },
                    "execution_count": 52,
                    "metadata": {},
                    "output_type": "execute_result"
                },
                {
                    "data": {
                        "image/png": "[encoded data removed]",
                        "text/plain": "<Figure size 432x288 with 1 Axes>"
                    },
                    "metadata": {
                        "needs_background": "light"
                    },
                    "output_type": "display_data"
                }
            ],
            "source": "# Plot sin_result\n\nplt.plot(pi_tensor.numpy(), sin_result.numpy())"
        },
        {
            "cell_type": "markdown",
            "metadata": {},
            "source": "If you know the trigonometric function, you will notice this is the diagram of the sin result in the range 0 to 360 degrees.\n"
        },
        {
            "cell_type": "markdown",
            "metadata": {},
            "source": "<!--Empty Space for separating topics-->\n"
        },
        {
            "cell_type": "markdown",
            "metadata": {},
            "source": "<h3>Practice</h3>\n"
        },
        {
            "cell_type": "markdown",
            "metadata": {},
            "source": "Construct a tensor with 25 steps in the range 0 to \u03c0/2. Print out the Maximum and Minimum number. Also, plot  a graph showing the diagram that shows the result.\n"
        },
        {
            "cell_type": "code",
            "execution_count": 61,
            "metadata": {},
            "outputs": [
                {
                    "name": "stdout",
                    "output_type": "stream",
                    "text": "tensor(0.1571)\ntensor(0.)\n"
                },
                {
                    "data": {
                        "text/plain": "[<matplotlib.lines.Line2D at 0x7f4a2e5b8150>]"
                    },
                    "execution_count": 61,
                    "metadata": {},
                    "output_type": "execute_result"
                },
                {
                    "data": {
                        "image/png": "[encoded data removed]",
                        "text/plain": "<Figure size 432x288 with 1 Axes>"
                    },
                    "metadata": {
                        "needs_background": "light"
                    },
                    "output_type": "display_data"
                }
            ],
            "source": "# Practice: Create your tensor, print max and min number, plot the sin result diagram\n\ntensor_1 = torch.linspace(0, np.pi/20, 20)\n\nprint(tensor_1.max())\nprint(tensor_1.min())\n\nsin_r = torch.sin(tensor_1)\nplt.plot(tensor_1.numpy(), sin_r.numpy())\n"
        },
        {
            "cell_type": "markdown",
            "metadata": {},
            "source": "Double-click <b>here</b> for the solution.\n\n<!-- \npi_tensor = torch.linspace(0, np.pi/2, 100)\nprint(\"Max Number: \", pi_tensor.max())\nprint(\"Min Number\", pi_tensor.min())\nsin_result = torch.sin(pi_tensor)\nplt.plot(pi_tensor.numpy(), sin_result.numpy())\n-->\n"
        },
        {
            "cell_type": "markdown",
            "metadata": {},
            "source": "<!--Empty Space for separating topics-->\n"
        },
        {
            "cell_type": "markdown",
            "metadata": {},
            "source": "<h2 id=\"Tensor_Op\">Tensor Operations</h2>\n"
        },
        {
            "cell_type": "markdown",
            "metadata": {},
            "source": "In the following section, you'll work with operations that you can apply to a tensor.\n"
        },
        {
            "cell_type": "markdown",
            "metadata": {},
            "source": "<!--Empty Space for separating topics-->\n"
        },
        {
            "cell_type": "markdown",
            "metadata": {},
            "source": "<h3>Tensor Addition</h3>\n"
        },
        {
            "cell_type": "markdown",
            "metadata": {},
            "source": "You can perform addition between two tensors.\n"
        },
        {
            "cell_type": "markdown",
            "metadata": {},
            "source": "Create a tensor <code>u</code> with 1 dimension and 2 elements. Then, create another tensor <code>v</code> with the same number of dimensions and the same number of elements:\n"
        },
        {
            "cell_type": "code",
            "execution_count": 62,
            "metadata": {
                "jupyter": {
                    "outputs_hidden": false
                }
            },
            "outputs": [],
            "source": "# Create two sample tensors\n\nu = torch.tensor([1, 0])\nv = torch.tensor([0, 1])"
        },
        {
            "cell_type": "markdown",
            "metadata": {},
            "source": "Add <code>u</code> and <code>v</code> together:\n"
        },
        {
            "cell_type": "code",
            "execution_count": 63,
            "metadata": {
                "jupyter": {
                    "outputs_hidden": false
                }
            },
            "outputs": [
                {
                    "name": "stdout",
                    "output_type": "stream",
                    "text": "The result tensor:  tensor([1, 1])\n"
                }
            ],
            "source": "# Add u and v\n\nw = u + v\nprint(\"The result tensor: \", w)"
        },
        {
            "cell_type": "markdown",
            "metadata": {},
            "source": "The result is <code>tensor([1, 1])</code>. The behavior is <i>[1 + 0, 0 + 1]</i>.\n"
        },
        {
            "cell_type": "markdown",
            "metadata": {},
            "source": "Plot the result to to get a clearer picture.\n"
        },
        {
            "cell_type": "code",
            "execution_count": 64,
            "metadata": {
                "jupyter": {
                    "outputs_hidden": false
                }
            },
            "outputs": [
                {
                    "data": {
                        "image/png": "[encoded data removed]",
                        "text/plain": "<Figure size 432x288 with 1 Axes>"
                    },
                    "metadata": {
                        "needs_background": "light"
                    },
                    "output_type": "display_data"
                }
            ],
            "source": "# Plot u, v, w\n\nplotVec([\n    {\"vector\": u.numpy(), \"name\": 'u', \"color\": 'r'},\n    {\"vector\": v.numpy(), \"name\": 'v', \"color\": 'b'},\n    {\"vector\": w.numpy(), \"name\": 'w', \"color\": 'g'}\n])"
        },
        {
            "cell_type": "markdown",
            "metadata": {},
            "source": "<!--Empty Space for separating topics-->\n"
        },
        {
            "cell_type": "markdown",
            "metadata": {},
            "source": "<h3>Try</h3> \n"
        },
        {
            "cell_type": "markdown",
            "metadata": {},
            "source": "Implement the tensor subtraction with <code>u</code> and <code>v</code> as u-v.\n"
        },
        {
            "cell_type": "code",
            "execution_count": 66,
            "metadata": {
                "jupyter": {
                    "outputs_hidden": false
                }
            },
            "outputs": [
                {
                    "data": {
                        "image/png": "[encoded data removed]",
                        "text/plain": "<Figure size 432x288 with 1 Axes>"
                    },
                    "metadata": {
                        "needs_background": "light"
                    },
                    "output_type": "display_data"
                }
            ],
            "source": "# Try by yourself to get a result of u-v\n\nu = torch.tensor([1, 0])\nv = torch.tensor([0, 1])\n\nw = u - v\n\n# Plot u, v, w\n\nplotVec([\n    {\"vector\": u.numpy(), \"name\": 'u', \"color\": 'r'},\n    {\"vector\": v.numpy(), \"name\": 'v', \"color\": 'b'},\n    {\"vector\": w.numpy(), \"name\": 'w', \"color\": 'g'}\n])"
        },
        {
            "cell_type": "markdown",
            "metadata": {},
            "source": "Double-click <b>here</b> for the solution.\n\n<!--\nprint(\"The result tensor: \", u-v)\n-->\n"
        },
        {
            "cell_type": "markdown",
            "metadata": {},
            "source": "Tensors must be of the same data type to perform addition as well as other operations.If you uncomment the  following code and try to run it you will get an error as the two tensors are of two different data types. **NOTE This lab was created on a older PyTorch version so in the current version we are using this is possible and will produce a float64 tensor.**\n"
        },
        {
            "cell_type": "code",
            "execution_count": 67,
            "metadata": {},
            "outputs": [
                {
                    "data": {
                        "text/plain": "tensor([2., 4., 6.], dtype=torch.float64)"
                    },
                    "execution_count": 67,
                    "metadata": {},
                    "output_type": "execute_result"
                }
            ],
            "source": "torch.tensor([1,2,3],dtype=torch.int64)+torch.tensor([1,2,3],dtype=torch.float64)"
        },
        {
            "cell_type": "markdown",
            "metadata": {},
            "source": "<!--Empty Space for separating topics-->\n"
        },
        {
            "cell_type": "markdown",
            "metadata": {},
            "source": "You can add a scalar to the tensor. Use <code>u</code> as the sample tensor:\n"
        },
        {
            "cell_type": "code",
            "execution_count": 68,
            "metadata": {},
            "outputs": [
                {
                    "name": "stdout",
                    "output_type": "stream",
                    "text": "Addition Result:  tensor([2, 3, 4, 0])\n"
                }
            ],
            "source": "# tensor + scalar\n\nu = torch.tensor([1, 2, 3, -1])\nv = u + 1\nprint (\"Addition Result: \", v)"
        },
        {
            "cell_type": "markdown",
            "metadata": {},
            "source": "The result is simply adding 1 to each element in tensor <code>u</code> as shown in the following image:\n"
        },
        {
            "cell_type": "markdown",
            "metadata": {},
            "source": "<img src = \"https://s3-api.us-geo.objectstorage.softlayer.net/cf-courses-data/CognitiveClass/DL0110EN/notebook_images%20/chapter%201/brodcasting.gif\" width = \"500\" alt=\"tensor addition\" />\n"
        },
        {
            "cell_type": "markdown",
            "metadata": {},
            "source": "<!--Empty Space for separating topics-->\n"
        },
        {
            "cell_type": "markdown",
            "metadata": {},
            "source": "<h3>Tensor Multiplication </h3>\n"
        },
        {
            "cell_type": "markdown",
            "metadata": {},
            "source": "Now, you'll review the multiplication between a tensor and a scalar.\n"
        },
        {
            "cell_type": "markdown",
            "metadata": {},
            "source": "Create a tensor with value <code>[1, 2]</code> and then multiply it by 2:\n"
        },
        {
            "cell_type": "code",
            "execution_count": 69,
            "metadata": {
                "jupyter": {
                    "outputs_hidden": false
                }
            },
            "outputs": [
                {
                    "name": "stdout",
                    "output_type": "stream",
                    "text": "The result of 2 * u:  tensor([2, 4])\n"
                }
            ],
            "source": "# tensor * scalar\n\nu = torch.tensor([1, 2])\nv = 2 * u\nprint(\"The result of 2 * u: \", v)"
        },
        {
            "cell_type": "markdown",
            "metadata": {},
            "source": "The result is <code>tensor([2, 4])</code>, so the code <code>2 \\* u</code> multiplies each element in the tensor by 2. This is how you get the product between a vector or matrix and a scalar in linear algebra.\n"
        },
        {
            "cell_type": "markdown",
            "metadata": {},
            "source": "<!--Empty Space for separating topics-->\n"
        },
        {
            "cell_type": "markdown",
            "metadata": {},
            "source": "You can use multiplication between two tensors.\n"
        },
        {
            "cell_type": "markdown",
            "metadata": {},
            "source": "Create two tensors <code>u</code> and <code>v</code> and then multiply them together:\n"
        },
        {
            "cell_type": "code",
            "execution_count": 70,
            "metadata": {
                "jupyter": {
                    "outputs_hidden": false
                }
            },
            "outputs": [
                {
                    "name": "stdout",
                    "output_type": "stream",
                    "text": "The result of u * v tensor([3, 4])\n"
                }
            ],
            "source": "# tensor * tensor\n\nu = torch.tensor([1, 2])\nv = torch.tensor([3, 2])\nw = u * v\nprint (\"The result of u * v\", w)"
        },
        {
            "cell_type": "markdown",
            "metadata": {},
            "source": "The result is simply <code>tensor([3, 4])</code>. This result is achieved by multiplying every element in <code>u</code> with the corresponding element in the same position <code>v</code>, which is similar to <i>[1 * 3, 2 * 2]</i>.\n"
        },
        {
            "cell_type": "markdown",
            "metadata": {},
            "source": "<!--Empty Space for separating topics-->\n"
        },
        {
            "cell_type": "markdown",
            "metadata": {},
            "source": "<h3>Dot Product</h3>\n"
        },
        {
            "cell_type": "markdown",
            "metadata": {},
            "source": "The dot product is a special operation for a vector that you can use in Torch.\n"
        },
        {
            "cell_type": "markdown",
            "metadata": {},
            "source": "Here is the dot product of the two tensors <code>u</code> and <code>v</code>:\n"
        },
        {
            "cell_type": "code",
            "execution_count": 71,
            "metadata": {},
            "outputs": [
                {
                    "name": "stdout",
                    "output_type": "stream",
                    "text": "Dot Product of u, v: tensor(7)\n"
                }
            ],
            "source": "# Calculate dot product of u, v\n\nu = torch.tensor([1, 2])\nv = torch.tensor([3, 2])\n\nprint(\"Dot Product of u, v:\", torch.dot(u,v))"
        },
        {
            "cell_type": "markdown",
            "metadata": {},
            "source": "The result is <code>tensor(7)</code>. The function is <i>1 x 3 + 2 x 2 = 7</i>.\n"
        },
        {
            "cell_type": "markdown",
            "metadata": {},
            "source": "<!--Empty Space for separating topics-->\n"
        },
        {
            "cell_type": "markdown",
            "metadata": {},
            "source": "<h3>Practice</h3>\n"
        },
        {
            "cell_type": "markdown",
            "metadata": {},
            "source": "Convert the list <i>[-1, 1]</i> and <i>[1, 1]</i> to tensors <code>u</code> and <code>v</code>. Then, plot the tensor <code>u</code> and <code>v</code> as a vector by using the function <code>plotVec</code> and find the dot product:\n"
        },
        {
            "cell_type": "code",
            "execution_count": 73,
            "metadata": {
                "jupyter": {
                    "outputs_hidden": false
                }
            },
            "outputs": [
                {
                    "name": "stdout",
                    "output_type": "stream",
                    "text": "tensor([1, 2]) tensor([3, 2]) tensor(7)\n"
                },
                {
                    "data": {
                        "image/png": "[encoded data removed]",
                        "text/plain": "<Figure size 432x288 with 1 Axes>"
                    },
                    "metadata": {
                        "needs_background": "light"
                    },
                    "output_type": "display_data"
                }
            ],
            "source": "# Practice: calculate the dot product of u and v, and plot out two vectors\n\nw = torch.dot(u,v)\n\n# Plot u, v, w\n\nplotVec([\n    {\"vector\": u.numpy(), \"name\": 'u', \"color\": 'r'},\n    {\"vector\": v.numpy(), \"name\": 'v', \"color\": 'b'},\n])\n\nprint(u,v,w)"
        },
        {
            "cell_type": "markdown",
            "metadata": {},
            "source": "Double-click <b>here</b> for the solution.\n\n<!-- \nu= torch.tensor([-1, 1])\nv= torch.tensor([1, 1])\nplotVec([\n    {\"vector\": u.numpy(), \"name\": 'u', \"color\": 'r'},\n    {\"vector\": v.numpy(), \"name\": 'v', \"color\": 'b'}\n])\nprint(\"The Dot Product is\",np.dot(u, v))\n -->\n"
        },
        {
            "cell_type": "markdown",
            "metadata": {},
            "source": "<!--Empty Space for separating topics-->\n"
        },
        {
            "cell_type": "markdown",
            "metadata": {},
            "source": "See <a href=\"https://docs.scipy.org/doc/numpy-1.13.0/user/basics.broadcasting.html\">Broadcasting</a> for more information on numpy that is similar to PyTorch.\n"
        },
        {
            "cell_type": "markdown",
            "metadata": {},
            "source": "<a href=\"http://cocl.us/pytorch_link_bottom\">\n    <img src=\"https://s3-api.us-geo.objectstorage.softlayer.net/cf-courses-data/CognitiveClass/DL0110EN/notebook_images%20/notebook_bottom%20.png\" width=\"750\" alt=\"PyTorch Bottom\" />\n</a>\n"
        },
        {
            "cell_type": "markdown",
            "metadata": {},
            "source": "<hr>\n"
        }
    ],
    "metadata": {
        "kernelspec": {
            "display_name": "Python 3.7",
            "language": "python",
            "name": "python3"
        },
        "language_info": {
            "codemirror_mode": {
                "name": "ipython",
                "version": 3
            },
            "file_extension": ".py",
            "mimetype": "text/x-python",
            "name": "python",
            "nbconvert_exporter": "python",
            "pygments_lexer": "ipython3",
            "version": "3.7.9"
        }
    },
    "nbformat": 4,
    "nbformat_minor": 4
}