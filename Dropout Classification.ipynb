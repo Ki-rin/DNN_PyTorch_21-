{
    "cells": [
        {
            "cell_type": "markdown",
            "metadata": {},
            "source": "<h1>Using Dropout for Classification </h1>\n"
        },
        {
            "cell_type": "markdown",
            "metadata": {},
            "source": "<h3>Objective for this Notebook<h3>    \n<h5> 1. Create the Model and Cost Function the PyTorch way.</h5>\n<h5> 2. Batch Gradient Descent </h5>    \n"
        },
        {
            "cell_type": "markdown",
            "metadata": {},
            "source": "<h2>Table of Contents</h2>\n<p>In this lab, you will see how adding dropout to your model will decrease overfitting.</p>\n\n<ul>\n<li><a href=\"#Makeup_Data\">Make Some Data</a></li>\n<li><a href=\"#Model_Cost\">Create the Model and Cost Function the PyTorch way</a></li>\n<li><a href=\"#BGD\">Batch Gradient Descent</a></li>\n</ul>\n\n\n<hr>\n"
        },
        {
            "cell_type": "markdown",
            "metadata": {},
            "source": "<h2>Preparation</h2>\n"
        },
        {
            "cell_type": "markdown",
            "metadata": {},
            "source": "We'll need the following libraries\n"
        },
        {
            "cell_type": "code",
            "execution_count": 1,
            "metadata": {},
            "outputs": [],
            "source": "# Import the libraries we need for this lab\n\nimport torch\nimport matplotlib.pyplot as plt\nimport torch.nn as nn\nimport torch.nn.functional as F\nimport numpy as np\nfrom matplotlib.colors import ListedColormap\nfrom torch.utils.data import Dataset, DataLoader"
        },
        {
            "cell_type": "markdown",
            "metadata": {},
            "source": "Use this function only for plotting:\n"
        },
        {
            "cell_type": "code",
            "execution_count": 2,
            "metadata": {},
            "outputs": [],
            "source": "# The function for plotting the diagram\n\ndef plot_decision_regions_3class(data_set, model=None):\n    cmap_light = ListedColormap([ '#0000FF','#FF0000'])\n    cmap_bold = ListedColormap(['#FF0000', '#00FF00', '#00AAFF'])\n    X = data_set.x.numpy()\n    y = data_set.y.numpy()\n    h = .02\n    x_min, x_max = X[:, 0].min() - 0.1, X[:, 0].max() + 0.1 \n    y_min, y_max = X[:, 1].min() - 0.1, X[:, 1].max() + 0.1 \n    xx, yy = np.meshgrid(np.arange(x_min, x_max, h), np.arange(y_min, y_max, h))\n    newdata = np.c_[xx.ravel(), yy.ravel()]\n    \n    Z = data_set.multi_dim_poly(newdata).flatten()\n    f = np.zeros(Z.shape)\n    f[Z > 0] = 1\n    f = f.reshape(xx.shape)\n    if model != None:\n        model.eval()\n        XX = torch.Tensor(newdata)\n        _, yhat = torch.max(model(XX), 1)\n        yhat = yhat.numpy().reshape(xx.shape)\n        plt.pcolormesh(xx, yy, yhat, cmap=cmap_light)\n        plt.contour(xx, yy, f, cmap=plt.cm.Paired)\n    else:\n        plt.contour(xx, yy, f, cmap=plt.cm.Paired)\n        plt.pcolormesh(xx, yy, f, cmap=cmap_light) \n\n    plt.title(\"decision region vs True decision boundary\")"
        },
        {
            "cell_type": "markdown",
            "metadata": {},
            "source": "Use this function to calculate accuracy: \n"
        },
        {
            "cell_type": "code",
            "execution_count": 3,
            "metadata": {},
            "outputs": [],
            "source": "# The function for calculating accuracy\n\ndef accuracy(model, data_set):\n    _, yhat = torch.max(model(data_set.x), 1)\n    return (yhat == data_set.y).numpy().mean()"
        },
        {
            "cell_type": "markdown",
            "metadata": {},
            "source": "<!--Empty Space for separating topics-->\n"
        },
        {
            "cell_type": "markdown",
            "metadata": {},
            "source": "<h2 id=\"Makeup_Data\">Make Some Data</h2>\n"
        },
        {
            "cell_type": "markdown",
            "metadata": {},
            "source": "Create a nonlinearly separable dataset:    \n"
        },
        {
            "cell_type": "code",
            "execution_count": 4,
            "metadata": {},
            "outputs": [],
            "source": "# Create data class for creating dataset object\n\nclass Data(Dataset):\n    \n    # Constructor\n    def __init__(self, N_SAMPLES=1000, noise_std=0.15, train=True):\n        a = np.matrix([-1, 1, 2, 1, 1, -3, 1]).T\n        self.x = np.matrix(np.random.rand(N_SAMPLES, 2))\n        self.f = np.array(a[0] + (self.x) * a[1:3] + np.multiply(self.x[:, 0], self.x[:, 1]) * a[4] + np.multiply(self.x, self.x) * a[5:7]).flatten()\n        self.a = a\n       \n        self.y = np.zeros(N_SAMPLES)\n        self.y[self.f > 0] = 1\n        self.y = torch.from_numpy(self.y).type(torch.LongTensor)\n        self.x = torch.from_numpy(self.x).type(torch.FloatTensor)\n        self.x = self.x + noise_std * torch.randn(self.x.size())\n        self.f = torch.from_numpy(self.f)\n        self.a = a\n        if train == True:\n            torch.manual_seed(1)\n            self.x = self.x + noise_std * torch.randn(self.x.size())\n            torch.manual_seed(0)\n        \n    # Getter        \n    def __getitem__(self, index):    \n        return self.x[index], self.y[index]\n    \n    # Get Length\n    def __len__(self):\n        return self.len\n    \n    # Plot the diagram\n    def plot(self):\n        X = data_set.x.numpy()\n        y = data_set.y.numpy()\n        h = .02\n        x_min, x_max = X[:, 0].min(), X[:, 0].max()\n        y_min, y_max = X[:, 1].min(), X[:, 1].max() \n        xx, yy = np.meshgrid(np.arange(x_min, x_max, h), np.arange(y_min, y_max, h))\n        Z = data_set.multi_dim_poly(np.c_[xx.ravel(), yy.ravel()]).flatten()\n        f = np.zeros(Z.shape)\n        f[Z > 0] = 1\n        f = f.reshape(xx.shape)\n        \n        plt.title('True decision boundary  and sample points with noise ')\n        plt.plot(self.x[self.y == 0, 0].numpy(), self.x[self.y == 0,1].numpy(), 'bo', label='y=0') \n        plt.plot(self.x[self.y == 1, 0].numpy(), self.x[self.y == 1,1].numpy(), 'ro', label='y=1')\n        plt.contour(xx, yy, f,cmap=plt.cm.Paired)\n        plt.xlim(0,1)\n        plt.ylim(0,1)\n        plt.legend()\n    \n    # Make a multidimension ploynomial function\n    def multi_dim_poly(self, x):\n        x = np.matrix(x)\n        out = np.array(self.a[0] + (x) * self.a[1:3] + np.multiply(x[:, 0], x[:, 1]) * self.a[4] + np.multiply(x, x) * self.a[5:7])\n        out = np.array(out)\n        return out"
        },
        {
            "cell_type": "markdown",
            "metadata": {},
            "source": "Create a dataset object:\n"
        },
        {
            "cell_type": "code",
            "execution_count": 5,
            "metadata": {},
            "outputs": [
                {
                    "data": {
                        "image/png": "[encoded data removed]",
                        "text/plain": "<Figure size 432x288 with 1 Axes>"
                    },
                    "metadata": {
                        "needs_background": "light"
                    },
                    "output_type": "display_data"
                }
            ],
            "source": "# Create a dataset object\n\ndata_set = Data(noise_std=0.2)\ndata_set.plot()"
        },
        {
            "cell_type": "markdown",
            "metadata": {},
            "source": "Validation data: \n"
        },
        {
            "cell_type": "code",
            "execution_count": 6,
            "metadata": {},
            "outputs": [],
            "source": "# Get some validation data\n\ntorch.manual_seed(0) \nvalidation_set = Data(train=False)"
        },
        {
            "cell_type": "markdown",
            "metadata": {},
            "source": "<!--Empty Space for separating topics-->\n"
        },
        {
            "cell_type": "markdown",
            "metadata": {},
            "source": "<h2 id=\"Model_Cost\">Create the Model, Optimizer, and Total Loss Function (Cost)</h2>\n"
        },
        {
            "cell_type": "markdown",
            "metadata": {},
            "source": "Create a custom module with three layers. <code>in_size</code> is the size of the input features, <code>n_hidden</code> is the size of the layers, and <code>out_size</code> is the size. <code>p</code> is the dropout probability. The default is 0, that is, no dropout.\n"
        },
        {
            "cell_type": "code",
            "execution_count": 7,
            "metadata": {},
            "outputs": [],
            "source": "# Create Net Class\n\nclass Net(nn.Module):\n    \n    # Constructor\n    def __init__(self, in_size, n_hidden, out_size, p=0):\n        super(Net, self).__init__()\n        self.drop = nn.Dropout(p=p)\n        self.linear1 = nn.Linear(in_size, n_hidden)\n        self.linear2 = nn.Linear(n_hidden, n_hidden)\n        self.linear3 = nn.Linear(n_hidden, out_size)\n    \n    # Prediction function\n    def forward(self, x):\n        x = F.relu(self.drop(self.linear1(x)))\n        x = F.relu(self.drop(self.linear2(x)))\n        x = self.linear3(x)\n        return x"
        },
        {
            "cell_type": "markdown",
            "metadata": {},
            "source": "Create two model objects: <code>model</code> had no dropout and <code>model_drop</code> has a dropout probability of 0.5:\n"
        },
        {
            "cell_type": "code",
            "execution_count": 8,
            "metadata": {},
            "outputs": [],
            "source": "# Create two model objects: model without dropout and model with dropout\n\nmodel = Net(2, 300, 2)\nmodel_drop = Net(2, 300, 2, p=0.5)"
        },
        {
            "cell_type": "markdown",
            "metadata": {},
            "source": "<!--Empty Space for separating topics-->\n"
        },
        {
            "cell_type": "markdown",
            "metadata": {},
            "source": "<h2 id=\"BGD\">Train the Model via Mini-Batch Gradient Descent</h2>\n"
        },
        {
            "cell_type": "markdown",
            "metadata": {},
            "source": "Set the model using dropout to training mode; this is the default mode, but it's  good practice to write this in your code : \n"
        },
        {
            "cell_type": "code",
            "execution_count": 9,
            "metadata": {},
            "outputs": [
                {
                    "data": {
                        "text/plain": "Net(\n  (drop): Dropout(p=0.5, inplace=False)\n  (linear1): Linear(in_features=2, out_features=300, bias=True)\n  (linear2): Linear(in_features=300, out_features=300, bias=True)\n  (linear3): Linear(in_features=300, out_features=2, bias=True)\n)"
                    },
                    "execution_count": 9,
                    "metadata": {},
                    "output_type": "execute_result"
                }
            ],
            "source": "# Set the model to training mode\n\nmodel_drop.train()"
        },
        {
            "cell_type": "markdown",
            "metadata": {},
            "source": "Train the model by using the Adam optimizer. See the unit on other optimizers. Use the Cross Entropy Loss:\n"
        },
        {
            "cell_type": "code",
            "execution_count": 10,
            "metadata": {},
            "outputs": [],
            "source": "# Set optimizer functions and criterion functions\n\noptimizer_ofit = torch.optim.Adam(model.parameters(), lr=0.01)\noptimizer_drop = torch.optim.Adam(model_drop.parameters(), lr=0.01)\ncriterion = torch.nn.CrossEntropyLoss()"
        },
        {
            "cell_type": "markdown",
            "metadata": {},
            "source": "Initialize a dictionary that stores the training and validation loss for each model:\n"
        },
        {
            "cell_type": "code",
            "execution_count": 11,
            "metadata": {},
            "outputs": [],
            "source": "# Initialize the LOSS dictionary to store the loss\n\nLOSS = {}\nLOSS['training data no dropout'] = []\nLOSS['validation data no dropout'] = []\nLOSS['training data dropout'] = []\nLOSS['validation data dropout'] = []"
        },
        {
            "cell_type": "markdown",
            "metadata": {},
            "source": "Run 500 iterations of batch gradient gradient descent: \n"
        },
        {
            "cell_type": "code",
            "execution_count": null,
            "metadata": {},
            "outputs": [],
            "source": "# Train the model\n\nepochs = 500\n\ndef train_model(epochs):\n    \n    for epoch in range(epochs):\n        #all the samples are used for training \n        yhat = model(data_set.x)\n        yhat_drop = model_drop(data_set.x)\n        loss = criterion(yhat, data_set.y)\n        loss_drop = criterion(yhat_drop, data_set.y)\n\n        #store the loss for both the training and validation data for both models \n        LOSS['training data no dropout'].append(loss.item())\n        LOSS['validation data no dropout'].append(criterion(model(validation_set.x), validation_set.y).item())\n        LOSS['training data dropout'].append(loss_drop.item())\n        model_drop.eval()\n        LOSS['validation data dropout'].append(criterion(model_drop(validation_set.x), validation_set.y).item())\n        model_drop.train()\n\n        optimizer_ofit.zero_grad()\n        optimizer_drop.zero_grad()\n        loss.backward()\n        loss_drop.backward()\n        optimizer_ofit.step()\n        optimizer_drop.step()\n        \ntrain_model(epochs)"
        },
        {
            "cell_type": "markdown",
            "metadata": {},
            "source": "Set the model with dropout to evaluation mode: \n"
        },
        {
            "cell_type": "code",
            "execution_count": null,
            "metadata": {},
            "outputs": [],
            "source": "# Set the model to evaluation model\n\nmodel_drop.eval()"
        },
        {
            "cell_type": "markdown",
            "metadata": {},
            "source": "Test the model without dropout on the validation data: \n"
        },
        {
            "cell_type": "code",
            "execution_count": null,
            "metadata": {},
            "outputs": [],
            "source": "# Print out the accuracy of the model without dropout\n\nprint(\"The accuracy of the model without dropout: \", accuracy(model, validation_set))"
        },
        {
            "cell_type": "markdown",
            "metadata": {},
            "source": "Test the model with dropout on the validation data: \n"
        },
        {
            "cell_type": "code",
            "execution_count": null,
            "metadata": {},
            "outputs": [],
            "source": "# Print out the accuracy of the model with dropout\n\nprint(\"The accuracy of the model with dropout: \", accuracy(model_drop, validation_set))"
        },
        {
            "cell_type": "markdown",
            "metadata": {},
            "source": "You see that the model with dropout performs better on the validation data.\n"
        },
        {
            "cell_type": "markdown",
            "metadata": {},
            "source": "<h3>True Function</h3>\n"
        },
        {
            "cell_type": "markdown",
            "metadata": {},
            "source": "Plot the decision boundary and the prediction of the networks in different colors.\n"
        },
        {
            "cell_type": "code",
            "execution_count": null,
            "metadata": {},
            "outputs": [],
            "source": "# Plot the decision boundary and the prediction\n\nplot_decision_regions_3class(data_set)"
        },
        {
            "cell_type": "markdown",
            "metadata": {},
            "source": "Model without Dropout:\n"
        },
        {
            "cell_type": "code",
            "execution_count": null,
            "metadata": {},
            "outputs": [],
            "source": "# The model without dropout\n\nplot_decision_regions_3class(data_set, model)"
        },
        {
            "cell_type": "markdown",
            "metadata": {},
            "source": "Model with Dropout:\n"
        },
        {
            "cell_type": "code",
            "execution_count": null,
            "metadata": {},
            "outputs": [],
            "source": "# The model with dropout\n\nplot_decision_regions_3class(data_set, model_drop)"
        },
        {
            "cell_type": "markdown",
            "metadata": {},
            "source": "You can see that the model using dropout does better at tracking the function that generated the data. \n"
        },
        {
            "cell_type": "markdown",
            "metadata": {},
            "source": "Plot out the loss for the training and validation data on both models, we use the log to make the difference more apparent\n"
        },
        {
            "cell_type": "code",
            "execution_count": null,
            "metadata": {},
            "outputs": [],
            "source": "# Plot the LOSS\n\nplt.figure(figsize=(6.1, 10))\ndef plot_LOSS():\n    for key, value in LOSS.items():\n        plt.plot(np.log(np.array(value)), label=key)\n        plt.legend()\n        plt.xlabel(\"iterations\")\n        plt.ylabel(\"Log of cost or total loss\")\n\nplot_LOSS()"
        },
        {
            "cell_type": "markdown",
            "metadata": {},
            "source": "You see that the model without dropout performs better on the training data, but it performs worse on the validation data. This suggests overfitting.  However, the model using dropout performed better on the validation data, but worse on the training data. \n"
        }
    ],
    "metadata": {
        "kernelspec": {
            "display_name": "Python 3.7",
            "language": "python",
            "name": "python3"
        },
        "language_info": {
            "codemirror_mode": {
                "name": "ipython",
                "version": 3
            },
            "file_extension": ".py",
            "mimetype": "text/x-python",
            "name": "python",
            "nbconvert_exporter": "python",
            "pygments_lexer": "ipython3",
            "version": "3.7.9"
        }
    },
    "nbformat": 4,
    "nbformat_minor": 4
}